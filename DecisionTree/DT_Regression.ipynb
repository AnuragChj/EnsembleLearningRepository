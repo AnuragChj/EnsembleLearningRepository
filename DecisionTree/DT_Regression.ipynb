{
  "nbformat": 4,
  "nbformat_minor": 0,
  "metadata": {
    "colab": {
      "name": "DT_Regression.ipynb",
      "provenance": []
    },
    "kernelspec": {
      "name": "python3",
      "display_name": "Python 3"
    },
    "language_info": {
      "name": "python"
    }
  },
  "cells": [
    {
      "cell_type": "code",
      "execution_count": 1,
      "metadata": {
        "id": "MS4rk8d-hYNt"
      },
      "outputs": [],
      "source": [
        "#Import Libraries\n",
        "import numpy as np\n",
        "import pandas as pd\n",
        "import matplotlib.pyplot as plt\n",
        "import seaborn as sns\n",
        "%matplotlib inline"
      ]
    },
    {
      "cell_type": "code",
      "source": [
        "#Node\n",
        "class NodeRegression():\n",
        "\n",
        "    def __init__(\n",
        "        self, \n",
        "        min_samples_split=None,\n",
        "        max_depth=None,\n",
        "        depth=None,\n",
        "        node_type=None,\n",
        "        rule=None):\n",
        "      \n",
        "        #Data goes to the node \n",
        "        self.Y = Y \n",
        "        self.X = X\n",
        "\n",
        "        #Hyper parameters\n",
        "        self.min_samples_split = min_samples_split\n",
        "        self.max_depth = max_depth\n",
        "\n",
        "        #Depth\n",
        "        self.depth = depth\n",
        "\n",
        "        #Features from the database\n",
        "        self.features = list(self.X.columns)\n",
        "\n",
        "        #Mean of Y \n",
        "        self.y_mean = np.mean(Y)\n",
        "\n",
        "        #Residuals \n",
        "        self.residuals = self.Y - self.y_mean\n",
        "\n",
        "        #Mse of the node \n",
        "        self.mse = self.mse_cal(Y, self.y_mean)\n",
        "\n",
        "        #Count of observations in the node \n",
        "        self.n = len(Y)\n",
        "\n",
        "        #Left and Right nodes initialisation\n",
        "        self.left = None \n",
        "        self.right = None \n",
        "\n",
        "        #Initialisation of splits\n",
        "        self.best_feature = None \n",
        "        self.best_value = None \n",
        "\n",
        "\n",
        "\n",
        "    #MSE - Mean Square Error \n",
        "    def mse_cal(y_act, y_hat) -> float:\n",
        "\n",
        "        #Residuals \n",
        "        res = y_act - y_hat \n",
        "\n",
        "        #Residual Square \n",
        "        res_2 = r * r\n",
        "\n",
        "        #Summation of residuals \n",
        "        r_sum = np.sum(res_2)\n",
        "\n",
        "        #Total Samples\n",
        "        n = len(y_act)        \n",
        "\n",
        "        #Average \n",
        "        return r_sum / n\n",
        "    \n",
        "\n",
        "\n",
        "\n",
        "  #Moving average\n",
        "\n",
        "\n",
        "\n",
        "    #Best splitting values\n",
        "    def best_split(self) -> tuple:\n",
        "\n",
        "        #Copy of the dataset\n",
        "        df = self.X.copy()\n",
        "        #Target Variable\n",
        "        df['Y'] = self.Y\n",
        "\n",
        "        #MSE of the input \n",
        "        mse_og = self.mse\n",
        "\n",
        "        best_feature = None\n",
        "        best_value = None\n",
        "\n",
        "        for feature in self.features:\n",
        "            #Drop missing values\n",
        "            df2 = df.dropna().sort_values(feature)\n",
        "\n",
        "            #Sort and moving average\n",
        "            x_ma = self.ma(df2[feature].unique(), 2)\n",
        "\n",
        "            for value in x_ma:\n",
        "                #Left branch \n",
        "                y_left = df2[df2[feature]<value]['Y'].values\n",
        "                #Right branch\n",
        "                y_right = df2[df2[feature]>=value]['Y'].values\n",
        "\n",
        "                #Mean of the points in the leaf \n",
        "                mean_left = np.mean(y_left)\n",
        "                mean_right = np.mean(y_right)\n",
        "\n",
        "                #Residuals \n",
        "                res_left = y_left - mean_left \n",
        "                res_right = y_right - mean_right\n",
        "            \n",
        "                r_concat = np.concatenate((res_left, res_right), axis=None)\n",
        "\n",
        "                #MSE \n",
        "                r_concat = r_concat * r_concat\n",
        "                r = np.sum(r_concat)\n",
        "                n = len(r)\n",
        "                mse_new = r / n\n",
        "\n",
        "                #Check for best split \n",
        "                if mse_new < mse_og:\n",
        "                    best_feature = feature\n",
        "                    best_value = value \n",
        "\n",
        "                    #Updating the best split \n",
        "                    mse_og = mse_new\n",
        "\n",
        "        return (best_feature, best_value)\n",
        "\n",
        "\n",
        "\n",
        "    #def grow tree\n",
        "    def grow_tree(self):\n",
        "         \n",
        "          #Copy of the dataset \n",
        "          df = self.X.copy()\n",
        "          #Target variable\n",
        "          df['Y'] = self.Y\n",
        "\n",
        "          #split further \n",
        "          if (self.depth < self.max_depth) and (self.n >= self.min_samples_split):\n",
        "\n",
        "              #best split \n",
        "              best_feature, best_value = self.best_split()\n",
        "\n",
        "              if best_feature is not None:\n",
        "                  #best split to the current node \n",
        "                  self.best_feature = best_feature\n",
        "                  self.best_value = best_value\n",
        "\n",
        "                  #left and right nodes\n",
        "                  df_left, df_right = df[df[best_feature]<=best_value].copy(), df[df[best_feature]>best_value].copy()\n",
        "\n",
        "                  #left node\n",
        "                  left = NodeRegression(\n",
        "                      df_left['Y'].values.tolist(), \n",
        "                      df_left[self.features], \n",
        "                      depth=self.depth + 1, \n",
        "                      max_depth=self.max_depth, \n",
        "                      min_samples_split=self.min_samples_split, \n",
        "                      node_type='left_node',\n",
        "                      rule=f\"{best_feature} <= {round(best_value, 3)}\"\n",
        "                      )\n",
        "\n",
        "                  self.left = left \n",
        "                  self.left.grow_tree()\n",
        "                  \n",
        "                  #right node\n",
        "                  right = NodeRegression(\n",
        "                      df_right['Y'].values.tolist(), \n",
        "                      df_right[self.features], \n",
        "                      depth=self.depth + 1, \n",
        "                      max_depth=self.max_depth, \n",
        "                      min_samples_split=self.min_samples_split,\n",
        "                      node_type='right_node',\n",
        "                      rule=f\"{best_feature} > {round(best_value, 3)}\"\n",
        "                      )\n",
        "\n",
        "                  self.right = right\n",
        "                  self.right.grow_tree()\n",
        "\n",
        "    #print tree\n"
      ],
      "metadata": {
        "id": "AflNEsA4hhVw"
      },
      "execution_count": 2,
      "outputs": []
    },
    {
      "cell_type": "code",
      "source": [
        ""
      ],
      "metadata": {
        "id": "JBI70tzOhhgr"
      },
      "execution_count": null,
      "outputs": []
    },
    {
      "cell_type": "code",
      "source": [
        ""
      ],
      "metadata": {
        "id": "rsMl1q5DhhnO"
      },
      "execution_count": null,
      "outputs": []
    },
    {
      "cell_type": "code",
      "source": [
        ""
      ],
      "metadata": {
        "id": "_44hlxFzhhqy"
      },
      "execution_count": null,
      "outputs": []
    },
    {
      "cell_type": "code",
      "source": [
        ""
      ],
      "metadata": {
        "id": "0BG_cR7lhhvg"
      },
      "execution_count": null,
      "outputs": []
    },
    {
      "cell_type": "code",
      "source": [
        ""
      ],
      "metadata": {
        "id": "UvQeokQGhhyg"
      },
      "execution_count": null,
      "outputs": []
    },
    {
      "cell_type": "code",
      "source": [
        ""
      ],
      "metadata": {
        "id": "AwlVTukYhh2m"
      },
      "execution_count": null,
      "outputs": []
    }
  ]
}