{
  "nbformat": 4,
  "nbformat_minor": 0,
  "metadata": {
    "colab": {
      "name": "DT_Regression.ipynb",
      "provenance": []
    },
    "kernelspec": {
      "name": "python3",
      "display_name": "Python 3"
    },
    "language_info": {
      "name": "python"
    }
  },
  "cells": [
    {
      "cell_type": "code",
      "execution_count": 5,
      "metadata": {
        "id": "MS4rk8d-hYNt"
      },
      "outputs": [],
      "source": [
        "#Import Libraries\n",
        "import numpy as np\n",
        "import pandas as pd\n",
        "import matplotlib.pyplot as plt\n",
        "import seaborn as sns\n",
        "%matplotlib inline"
      ]
    },
    {
      "cell_type": "code",
      "source": [
        "#Node\n",
        "class NodeRegression():\n",
        "\n",
        "    def __init__(\n",
        "        self, \n",
        "        min_samples_split=None,\n",
        "        max_depth=None,\n",
        "        depth=None,\n",
        "        node_type=None,\n",
        "        rule=None):\n",
        "      \n",
        "        #Data goes to the node \n",
        "        self.Y = Y \n",
        "        self.X = X\n",
        "\n",
        "        #Hyper parameters\n",
        "        self.min_samples_split = min_samples_split\n",
        "        self.max_depth = max_depth\n",
        "\n",
        "\n",
        "    #Mean Square Error\n",
        "    def mse(ytrue, yhat) -> float:\n",
        "        \n",
        "        #Total Samples\n",
        "        n = len(ytrue)\n",
        "\n",
        "        #Residuals \n",
        "        res = ytrue - yhat \n",
        "\n",
        "        #Residual Square \n",
        "        res_2 = r * r\n",
        "\n",
        "        #Summation of residuals \n",
        "        r_sum = np.sum(res_2)\n",
        "\n",
        "        #Average \n",
        "        return r_sum / n\n",
        "\n",
        "\n",
        "  #def gini\n",
        "\n",
        "  #def best_split\n",
        "\n",
        "  #def grow tree\n",
        "\n",
        "\n"
      ],
      "metadata": {
        "id": "AflNEsA4hhVw"
      },
      "execution_count": null,
      "outputs": []
    },
    {
      "cell_type": "code",
      "source": [
        ""
      ],
      "metadata": {
        "id": "JBI70tzOhhgr"
      },
      "execution_count": null,
      "outputs": []
    },
    {
      "cell_type": "code",
      "source": [
        ""
      ],
      "metadata": {
        "id": "rsMl1q5DhhnO"
      },
      "execution_count": null,
      "outputs": []
    },
    {
      "cell_type": "code",
      "source": [
        ""
      ],
      "metadata": {
        "id": "_44hlxFzhhqy"
      },
      "execution_count": null,
      "outputs": []
    },
    {
      "cell_type": "code",
      "source": [
        ""
      ],
      "metadata": {
        "id": "0BG_cR7lhhvg"
      },
      "execution_count": null,
      "outputs": []
    },
    {
      "cell_type": "code",
      "source": [
        ""
      ],
      "metadata": {
        "id": "UvQeokQGhhyg"
      },
      "execution_count": null,
      "outputs": []
    },
    {
      "cell_type": "code",
      "source": [
        ""
      ],
      "metadata": {
        "id": "AwlVTukYhh2m"
      },
      "execution_count": null,
      "outputs": []
    }
  ]
}