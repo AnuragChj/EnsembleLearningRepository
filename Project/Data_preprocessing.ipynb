{
 "cells": [
  {
   "cell_type": "code",
   "execution_count": null,
   "id": "e88a1457",
   "metadata": {},
   "outputs": [],
   "source": [
    "#links referred:\n",
    "# https://www.kaggle.com/jonaspptawat/cyberbullying-classification-eda-and-ml"
   ]
  },
  {
   "cell_type": "code",
   "execution_count": 1,
   "id": "cdd61a28",
   "metadata": {
    "scrolled": true
   },
   "outputs": [
    {
     "name": "stdout",
     "output_type": "stream",
     "text": [
      "Requirement already satisfied: emoji in c:\\users\\user\\anaconda3\\lib\\site-packages (1.6.3)\n",
      "Note: you may need to restart the kernel to use updated packages.\n"
     ]
    }
   ],
   "source": [
    "pip install emoji"
   ]
  },
  {
   "cell_type": "code",
   "execution_count": 2,
   "id": "6c0cb38e",
   "metadata": {},
   "outputs": [
    {
     "name": "stdout",
     "output_type": "stream",
     "text": [
      "Requirement already satisfied: vaderSentiment in c:\\users\\user\\anaconda3\\lib\\site-packages (3.3.2)\n",
      "Requirement already satisfied: requests in c:\\users\\user\\anaconda3\\lib\\site-packages (from vaderSentiment) (2.26.0)\n",
      "Requirement already satisfied: charset-normalizer~=2.0.0 in c:\\users\\user\\anaconda3\\lib\\site-packages (from requests->vaderSentiment) (2.0.4)\n",
      "Requirement already satisfied: idna<4,>=2.5 in c:\\users\\user\\anaconda3\\lib\\site-packages (from requests->vaderSentiment) (3.2)\n",
      "Requirement already satisfied: certifi>=2017.4.17 in c:\\users\\user\\anaconda3\\lib\\site-packages (from requests->vaderSentiment) (2021.10.8)\n",
      "Requirement already satisfied: urllib3<1.27,>=1.21.1 in c:\\users\\user\\anaconda3\\lib\\site-packages (from requests->vaderSentiment) (1.26.7)\n",
      "Note: you may need to restart the kernel to use updated packages.\n"
     ]
    }
   ],
   "source": [
    "pip install vaderSentiment"
   ]
  },
  {
   "cell_type": "code",
   "execution_count": 3,
   "id": "d6f3cddd",
   "metadata": {},
   "outputs": [],
   "source": [
    "import numpy as np\n",
    "import pandas as pd\n",
    "import nltk\n",
    "from nltk.corpus import stopwords\n",
    "import re\n",
    "import string\n",
    "import emoji\n",
    "from vaderSentiment.vaderSentiment import SentimentIntensityAnalyzer"
   ]
  },
  {
   "cell_type": "code",
   "execution_count": 4,
   "id": "71d9b30c",
   "metadata": {},
   "outputs": [],
   "source": [
    "tweets = pd.read_csv(\"cyberbullying_tweets.csv\")"
   ]
  },
  {
   "cell_type": "code",
   "execution_count": 60,
   "id": "514c545a",
   "metadata": {},
   "outputs": [
    {
     "data": {
      "text/html": [
       "<div>\n",
       "<style scoped>\n",
       "    .dataframe tbody tr th:only-of-type {\n",
       "        vertical-align: middle;\n",
       "    }\n",
       "\n",
       "    .dataframe tbody tr th {\n",
       "        vertical-align: top;\n",
       "    }\n",
       "\n",
       "    .dataframe thead th {\n",
       "        text-align: right;\n",
       "    }\n",
       "</style>\n",
       "<table border=\"1\" class=\"dataframe\">\n",
       "  <thead>\n",
       "    <tr style=\"text-align: right;\">\n",
       "      <th></th>\n",
       "      <th>Unnamed: 0</th>\n",
       "      <th>tweet_text</th>\n",
       "      <th>cyberbullying_type</th>\n",
       "      <th>processed_tweet</th>\n",
       "    </tr>\n",
       "  </thead>\n",
       "  <tbody>\n",
       "    <tr>\n",
       "      <th>0</th>\n",
       "      <td>0</td>\n",
       "      <td>In other words #katandandre, your food was cra...</td>\n",
       "      <td>not_cyberbullying</td>\n",
       "      <td>words katandandre food crapilicious mkr</td>\n",
       "    </tr>\n",
       "    <tr>\n",
       "      <th>1</th>\n",
       "      <td>1</td>\n",
       "      <td>Why is #aussietv so white? #MKR #theblock #ImA...</td>\n",
       "      <td>not_cyberbullying</td>\n",
       "      <td>aussietv white mkr theblock imacelebrityau tod...</td>\n",
       "    </tr>\n",
       "    <tr>\n",
       "      <th>2</th>\n",
       "      <td>2</td>\n",
       "      <td>@XochitlSuckkks a classy whore? Or more red ve...</td>\n",
       "      <td>not_cyberbullying</td>\n",
       "      <td>classy whore red velvet cupcakes</td>\n",
       "    </tr>\n",
       "    <tr>\n",
       "      <th>3</th>\n",
       "      <td>3</td>\n",
       "      <td>@Jason_Gio meh. :P  thanks for the heads up, b...</td>\n",
       "      <td>not_cyberbullying</td>\n",
       "      <td>meh p thanks heads not concerned another ang...</td>\n",
       "    </tr>\n",
       "    <tr>\n",
       "      <th>4</th>\n",
       "      <td>4</td>\n",
       "      <td>@RudhoeEnglish This is an ISIS account pretend...</td>\n",
       "      <td>not_cyberbullying</td>\n",
       "      <td>isis account pretending kurdish account like...</td>\n",
       "    </tr>\n",
       "    <tr>\n",
       "      <th>...</th>\n",
       "      <td>...</td>\n",
       "      <td>...</td>\n",
       "      <td>...</td>\n",
       "      <td>...</td>\n",
       "    </tr>\n",
       "    <tr>\n",
       "      <th>47687</th>\n",
       "      <td>47687</td>\n",
       "      <td>Black ppl aren't expected to do anything, depe...</td>\n",
       "      <td>ethnicity</td>\n",
       "      <td>black ppl expected anything depended anything ...</td>\n",
       "    </tr>\n",
       "    <tr>\n",
       "      <th>47688</th>\n",
       "      <td>47688</td>\n",
       "      <td>Turner did not withhold his disappointment. Tu...</td>\n",
       "      <td>ethnicity</td>\n",
       "      <td>turner not withhold disappointment turner call...</td>\n",
       "    </tr>\n",
       "    <tr>\n",
       "      <th>47689</th>\n",
       "      <td>47689</td>\n",
       "      <td>I swear to God. This dumb nigger bitch. I have...</td>\n",
       "      <td>ethnicity</td>\n",
       "      <td>swear god dumb nigger bitch got bleach hair re...</td>\n",
       "    </tr>\n",
       "    <tr>\n",
       "      <th>47690</th>\n",
       "      <td>47690</td>\n",
       "      <td>Yea fuck you RT @therealexel: IF YOURE A NIGGE...</td>\n",
       "      <td>ethnicity</td>\n",
       "      <td>yea fuck rt therealexel youre nigger fucking u...</td>\n",
       "    </tr>\n",
       "    <tr>\n",
       "      <th>47691</th>\n",
       "      <td>47691</td>\n",
       "      <td>Bro. U gotta chill RT @CHILLShrammy: Dog FUCK ...</td>\n",
       "      <td>ethnicity</td>\n",
       "      <td>bro u gotta chill rt chillshrammy dog fuck kp ...</td>\n",
       "    </tr>\n",
       "  </tbody>\n",
       "</table>\n",
       "<p>47692 rows × 4 columns</p>\n",
       "</div>"
      ],
      "text/plain": [
       "       Unnamed: 0                                         tweet_text  \\\n",
       "0               0  In other words #katandandre, your food was cra...   \n",
       "1               1  Why is #aussietv so white? #MKR #theblock #ImA...   \n",
       "2               2  @XochitlSuckkks a classy whore? Or more red ve...   \n",
       "3               3  @Jason_Gio meh. :P  thanks for the heads up, b...   \n",
       "4               4  @RudhoeEnglish This is an ISIS account pretend...   \n",
       "...           ...                                                ...   \n",
       "47687       47687  Black ppl aren't expected to do anything, depe...   \n",
       "47688       47688  Turner did not withhold his disappointment. Tu...   \n",
       "47689       47689  I swear to God. This dumb nigger bitch. I have...   \n",
       "47690       47690  Yea fuck you RT @therealexel: IF YOURE A NIGGE...   \n",
       "47691       47691  Bro. U gotta chill RT @CHILLShrammy: Dog FUCK ...   \n",
       "\n",
       "      cyberbullying_type                                    processed_tweet  \n",
       "0      not_cyberbullying            words katandandre food crapilicious mkr  \n",
       "1      not_cyberbullying  aussietv white mkr theblock imacelebrityau tod...  \n",
       "2      not_cyberbullying                  classy whore red velvet cupcakes   \n",
       "3      not_cyberbullying    meh p thanks heads not concerned another ang...  \n",
       "4      not_cyberbullying    isis account pretending kurdish account like...  \n",
       "...                  ...                                                ...  \n",
       "47687          ethnicity  black ppl expected anything depended anything ...  \n",
       "47688          ethnicity  turner not withhold disappointment turner call...  \n",
       "47689          ethnicity  swear god dumb nigger bitch got bleach hair re...  \n",
       "47690          ethnicity  yea fuck rt therealexel youre nigger fucking u...  \n",
       "47691          ethnicity  bro u gotta chill rt chillshrammy dog fuck kp ...  \n",
       "\n",
       "[47692 rows x 4 columns]"
      ]
     },
     "execution_count": 60,
     "metadata": {},
     "output_type": "execute_result"
    }
   ],
   "source": [
    "tweets"
   ]
  },
  {
   "cell_type": "code",
   "execution_count": 5,
   "id": "0e036160",
   "metadata": {},
   "outputs": [
    {
     "data": {
      "text/plain": [
       "array(['not_cyberbullying', 'gender', 'religion', 'other_cyberbullying',\n",
       "       'age', 'ethnicity'], dtype=object)"
      ]
     },
     "execution_count": 5,
     "metadata": {},
     "output_type": "execute_result"
    }
   ],
   "source": [
    "tweets['cyberbullying_type'].unique()"
   ]
  },
  {
   "cell_type": "code",
   "execution_count": 6,
   "id": "6808c5f1",
   "metadata": {},
   "outputs": [],
   "source": [
    "#remove stopwords\n",
    "stop_words = set(stopwords.words('english'))\n",
    "stop_words.remove(\"not\")\n",
    "stop_words.add(\"rt\") #for twitter retweet\n",
    "stop_words.remove(\"against\")\n",
    "# stop_words"
   ]
  },
  {
   "cell_type": "code",
   "execution_count": 7,
   "id": "7c8f118f",
   "metadata": {},
   "outputs": [],
   "source": [
    "twitter_string = \"@\\S+|https?:\\S+|http?:\\S|[^A-Za-z0-9]+\""
   ]
  },
  {
   "cell_type": "code",
   "execution_count": 26,
   "id": "31bc0937",
   "metadata": {},
   "outputs": [],
   "source": [
    "tweets[\"processed_tweet\"] = tweets[\"tweet_text\"].str.lower()"
   ]
  },
  {
   "cell_type": "code",
   "execution_count": 28,
   "id": "9664d969",
   "metadata": {},
   "outputs": [],
   "source": [
    "#remove tags to people and \n",
    "# retweet links of the people \n",
    "# and also remove stopwords\n",
    "# and convert emoji to words\n",
    "\n",
    "tweets[\"processed_tweet\"] = tweets[\"processed_tweet\"] \\\n",
    "                            .apply(lambda x: re.sub(twitter_string,' ', x)) \\\n",
    "                            .apply(lambda x : [value for value in x.split(\" \") if not value.startswith(\"@\") and value not in stop_words]) \\\n",
    "                            .apply(lambda x : ' '.join(x)) \\\n",
    "                            .apply(lambda x : x.translate(str.maketrans('', '', string.punctuation))) \\\n",
    "                            .apply(lambda x: emoji.demojize(x)) \n",
    "                        "
   ]
  },
  {
   "cell_type": "code",
   "execution_count": 10,
   "id": "5c4bf47a",
   "metadata": {},
   "outputs": [],
   "source": [
    "tweets.to_csv(\"Intermediate_file.csv\")"
   ]
  },
  {
   "cell_type": "code",
   "execution_count": 40,
   "id": "8a4a1836",
   "metadata": {},
   "outputs": [],
   "source": [
    "tweets = pd.read_csv(\"Intermediate_file.csv\")"
   ]
  },
  {
   "cell_type": "code",
   "execution_count": null,
   "id": "fafa8663",
   "metadata": {},
   "outputs": [],
   "source": [
    "#extracting sentiment of each tweet"
   ]
  },
  {
   "cell_type": "code",
   "execution_count": 41,
   "id": "04d8c387",
   "metadata": {},
   "outputs": [],
   "source": [
    "sid_obj = SentimentIntensityAnalyzer()"
   ]
  },
  {
   "cell_type": "code",
   "execution_count": 42,
   "id": "c07454ec",
   "metadata": {},
   "outputs": [],
   "source": [
    "tweets['sentiments'] = tweets['processed_tweet'].apply(lambda x: sid_obj.polarity_scores(str(x)))"
   ]
  },
  {
   "cell_type": "code",
   "execution_count": 43,
   "id": "503f6b08",
   "metadata": {},
   "outputs": [],
   "source": [
    "tweet_sentiment = tweets['sentiments'].apply(pd.Series)"
   ]
  },
  {
   "cell_type": "code",
   "execution_count": 45,
   "id": "2240dc70",
   "metadata": {},
   "outputs": [],
   "source": [
    "tweets = tweets.merge(tweet_sentiment, left_index=True, right_index=True)"
   ]
  },
  {
   "cell_type": "code",
   "execution_count": 48,
   "id": "59be3375",
   "metadata": {},
   "outputs": [],
   "source": [
    "tweets.rename(columns = {\"neu\":\"Neutral\", \"negative\":\"Negative\", \"pos\":\"Positive\", \"compound\":\"Total_Sentiment_Score\"}, inplace=True)"
   ]
  },
  {
   "cell_type": "code",
   "execution_count": 49,
   "id": "39f9ae6b",
   "metadata": {},
   "outputs": [
    {
     "data": {
      "text/html": [
       "<div>\n",
       "<style scoped>\n",
       "    .dataframe tbody tr th:only-of-type {\n",
       "        vertical-align: middle;\n",
       "    }\n",
       "\n",
       "    .dataframe tbody tr th {\n",
       "        vertical-align: top;\n",
       "    }\n",
       "\n",
       "    .dataframe thead th {\n",
       "        text-align: right;\n",
       "    }\n",
       "</style>\n",
       "<table border=\"1\" class=\"dataframe\">\n",
       "  <thead>\n",
       "    <tr style=\"text-align: right;\">\n",
       "      <th></th>\n",
       "      <th>Unnamed: 0</th>\n",
       "      <th>tweet_text</th>\n",
       "      <th>cyberbullying_type</th>\n",
       "      <th>processed_tweet</th>\n",
       "      <th>sentiments</th>\n",
       "      <th>neg</th>\n",
       "      <th>Neutral</th>\n",
       "      <th>Positive</th>\n",
       "      <th>Total_Sentiment_Score</th>\n",
       "    </tr>\n",
       "  </thead>\n",
       "  <tbody>\n",
       "    <tr>\n",
       "      <th>0</th>\n",
       "      <td>0</td>\n",
       "      <td>In other words #katandandre, your food was cra...</td>\n",
       "      <td>not_cyberbullying</td>\n",
       "      <td>words katandandre food crapilicious mkr</td>\n",
       "      <td>{'neg': 0.0, 'neu': 1.0, 'pos': 0.0, 'compound...</td>\n",
       "      <td>0.000</td>\n",
       "      <td>1.000</td>\n",
       "      <td>0.000</td>\n",
       "      <td>0.0000</td>\n",
       "    </tr>\n",
       "    <tr>\n",
       "      <th>1</th>\n",
       "      <td>1</td>\n",
       "      <td>Why is #aussietv so white? #MKR #theblock #ImA...</td>\n",
       "      <td>not_cyberbullying</td>\n",
       "      <td>aussietv white mkr theblock imacelebrityau tod...</td>\n",
       "      <td>{'neg': 0.0, 'neu': 1.0, 'pos': 0.0, 'compound...</td>\n",
       "      <td>0.000</td>\n",
       "      <td>1.000</td>\n",
       "      <td>0.000</td>\n",
       "      <td>0.0000</td>\n",
       "    </tr>\n",
       "    <tr>\n",
       "      <th>2</th>\n",
       "      <td>2</td>\n",
       "      <td>@XochitlSuckkks a classy whore? Or more red ve...</td>\n",
       "      <td>not_cyberbullying</td>\n",
       "      <td>classy whore red velvet cupcakes</td>\n",
       "      <td>{'neg': 0.422, 'neu': 0.294, 'pos': 0.284, 'co...</td>\n",
       "      <td>0.422</td>\n",
       "      <td>0.294</td>\n",
       "      <td>0.284</td>\n",
       "      <td>-0.3400</td>\n",
       "    </tr>\n",
       "    <tr>\n",
       "      <th>3</th>\n",
       "      <td>3</td>\n",
       "      <td>@Jason_Gio meh. :P  thanks for the heads up, b...</td>\n",
       "      <td>not_cyberbullying</td>\n",
       "      <td>meh p thanks heads not concerned another ang...</td>\n",
       "      <td>{'neg': 0.094, 'neu': 0.504, 'pos': 0.403, 'co...</td>\n",
       "      <td>0.094</td>\n",
       "      <td>0.504</td>\n",
       "      <td>0.403</td>\n",
       "      <td>0.6488</td>\n",
       "    </tr>\n",
       "    <tr>\n",
       "      <th>4</th>\n",
       "      <td>4</td>\n",
       "      <td>@RudhoeEnglish This is an ISIS account pretend...</td>\n",
       "      <td>not_cyberbullying</td>\n",
       "      <td>isis account pretending kurdish account like...</td>\n",
       "      <td>{'neg': 0.239, 'neu': 0.427, 'pos': 0.333, 'co...</td>\n",
       "      <td>0.239</td>\n",
       "      <td>0.427</td>\n",
       "      <td>0.333</td>\n",
       "      <td>0.0258</td>\n",
       "    </tr>\n",
       "    <tr>\n",
       "      <th>...</th>\n",
       "      <td>...</td>\n",
       "      <td>...</td>\n",
       "      <td>...</td>\n",
       "      <td>...</td>\n",
       "      <td>...</td>\n",
       "      <td>...</td>\n",
       "      <td>...</td>\n",
       "      <td>...</td>\n",
       "      <td>...</td>\n",
       "    </tr>\n",
       "    <tr>\n",
       "      <th>47687</th>\n",
       "      <td>47687</td>\n",
       "      <td>Black ppl aren't expected to do anything, depe...</td>\n",
       "      <td>ethnicity</td>\n",
       "      <td>black ppl expected anything depended anything ...</td>\n",
       "      <td>{'neg': 0.165, 'neu': 0.45, 'pos': 0.384, 'com...</td>\n",
       "      <td>0.165</td>\n",
       "      <td>0.450</td>\n",
       "      <td>0.384</td>\n",
       "      <td>0.8074</td>\n",
       "    </tr>\n",
       "    <tr>\n",
       "      <th>47688</th>\n",
       "      <td>47688</td>\n",
       "      <td>Turner did not withhold his disappointment. Tu...</td>\n",
       "      <td>ethnicity</td>\n",
       "      <td>turner not withhold disappointment turner call...</td>\n",
       "      <td>{'neg': 0.097, 'neu': 0.823, 'pos': 0.079, 'co...</td>\n",
       "      <td>0.097</td>\n",
       "      <td>0.823</td>\n",
       "      <td>0.079</td>\n",
       "      <td>-0.1526</td>\n",
       "    </tr>\n",
       "    <tr>\n",
       "      <th>47689</th>\n",
       "      <td>47689</td>\n",
       "      <td>I swear to God. This dumb nigger bitch. I have...</td>\n",
       "      <td>ethnicity</td>\n",
       "      <td>swear god dumb nigger bitch got bleach hair re...</td>\n",
       "      <td>{'neg': 0.643, 'neu': 0.275, 'pos': 0.082, 'co...</td>\n",
       "      <td>0.643</td>\n",
       "      <td>0.275</td>\n",
       "      <td>0.082</td>\n",
       "      <td>-0.9356</td>\n",
       "    </tr>\n",
       "    <tr>\n",
       "      <th>47690</th>\n",
       "      <td>47690</td>\n",
       "      <td>Yea fuck you RT @therealexel: IF YOURE A NIGGE...</td>\n",
       "      <td>ethnicity</td>\n",
       "      <td>yea fuck therealexel youre nigger fucking unfo...</td>\n",
       "      <td>{'neg': 0.625, 'neu': 0.375, 'pos': 0.0, 'comp...</td>\n",
       "      <td>0.625</td>\n",
       "      <td>0.375</td>\n",
       "      <td>0.000</td>\n",
       "      <td>-0.9128</td>\n",
       "    </tr>\n",
       "    <tr>\n",
       "      <th>47691</th>\n",
       "      <td>47691</td>\n",
       "      <td>Bro. U gotta chill RT @CHILLShrammy: Dog FUCK ...</td>\n",
       "      <td>ethnicity</td>\n",
       "      <td>bro u gotta chill chillshrammy dog fuck kp dum...</td>\n",
       "      <td>{'neg': 0.578, 'neu': 0.271, 'pos': 0.151, 'co...</td>\n",
       "      <td>0.578</td>\n",
       "      <td>0.271</td>\n",
       "      <td>0.151</td>\n",
       "      <td>-0.9001</td>\n",
       "    </tr>\n",
       "  </tbody>\n",
       "</table>\n",
       "<p>47692 rows × 9 columns</p>\n",
       "</div>"
      ],
      "text/plain": [
       "       Unnamed: 0                                         tweet_text  \\\n",
       "0               0  In other words #katandandre, your food was cra...   \n",
       "1               1  Why is #aussietv so white? #MKR #theblock #ImA...   \n",
       "2               2  @XochitlSuckkks a classy whore? Or more red ve...   \n",
       "3               3  @Jason_Gio meh. :P  thanks for the heads up, b...   \n",
       "4               4  @RudhoeEnglish This is an ISIS account pretend...   \n",
       "...           ...                                                ...   \n",
       "47687       47687  Black ppl aren't expected to do anything, depe...   \n",
       "47688       47688  Turner did not withhold his disappointment. Tu...   \n",
       "47689       47689  I swear to God. This dumb nigger bitch. I have...   \n",
       "47690       47690  Yea fuck you RT @therealexel: IF YOURE A NIGGE...   \n",
       "47691       47691  Bro. U gotta chill RT @CHILLShrammy: Dog FUCK ...   \n",
       "\n",
       "      cyberbullying_type                                    processed_tweet  \\\n",
       "0      not_cyberbullying            words katandandre food crapilicious mkr   \n",
       "1      not_cyberbullying  aussietv white mkr theblock imacelebrityau tod...   \n",
       "2      not_cyberbullying                  classy whore red velvet cupcakes    \n",
       "3      not_cyberbullying    meh p thanks heads not concerned another ang...   \n",
       "4      not_cyberbullying    isis account pretending kurdish account like...   \n",
       "...                  ...                                                ...   \n",
       "47687          ethnicity  black ppl expected anything depended anything ...   \n",
       "47688          ethnicity  turner not withhold disappointment turner call...   \n",
       "47689          ethnicity  swear god dumb nigger bitch got bleach hair re...   \n",
       "47690          ethnicity  yea fuck therealexel youre nigger fucking unfo...   \n",
       "47691          ethnicity  bro u gotta chill chillshrammy dog fuck kp dum...   \n",
       "\n",
       "                                              sentiments    neg  Neutral  \\\n",
       "0      {'neg': 0.0, 'neu': 1.0, 'pos': 0.0, 'compound...  0.000    1.000   \n",
       "1      {'neg': 0.0, 'neu': 1.0, 'pos': 0.0, 'compound...  0.000    1.000   \n",
       "2      {'neg': 0.422, 'neu': 0.294, 'pos': 0.284, 'co...  0.422    0.294   \n",
       "3      {'neg': 0.094, 'neu': 0.504, 'pos': 0.403, 'co...  0.094    0.504   \n",
       "4      {'neg': 0.239, 'neu': 0.427, 'pos': 0.333, 'co...  0.239    0.427   \n",
       "...                                                  ...    ...      ...   \n",
       "47687  {'neg': 0.165, 'neu': 0.45, 'pos': 0.384, 'com...  0.165    0.450   \n",
       "47688  {'neg': 0.097, 'neu': 0.823, 'pos': 0.079, 'co...  0.097    0.823   \n",
       "47689  {'neg': 0.643, 'neu': 0.275, 'pos': 0.082, 'co...  0.643    0.275   \n",
       "47690  {'neg': 0.625, 'neu': 0.375, 'pos': 0.0, 'comp...  0.625    0.375   \n",
       "47691  {'neg': 0.578, 'neu': 0.271, 'pos': 0.151, 'co...  0.578    0.271   \n",
       "\n",
       "       Positive  Total_Sentiment_Score  \n",
       "0         0.000                 0.0000  \n",
       "1         0.000                 0.0000  \n",
       "2         0.284                -0.3400  \n",
       "3         0.403                 0.6488  \n",
       "4         0.333                 0.0258  \n",
       "...         ...                    ...  \n",
       "47687     0.384                 0.8074  \n",
       "47688     0.079                -0.1526  \n",
       "47689     0.082                -0.9356  \n",
       "47690     0.000                -0.9128  \n",
       "47691     0.151                -0.9001  \n",
       "\n",
       "[47692 rows x 9 columns]"
      ]
     },
     "execution_count": 49,
     "metadata": {},
     "output_type": "execute_result"
    }
   ],
   "source": [
    "tweets"
   ]
  },
  {
   "cell_type": "code",
   "execution_count": null,
   "id": "149a8b62",
   "metadata": {},
   "outputs": [],
   "source": [
    "#topic and aspect extraction from each tweet"
   ]
  },
  {
   "cell_type": "code",
   "execution_count": null,
   "id": "918df7af",
   "metadata": {},
   "outputs": [],
   "source": [
    "#TFIdf vectorizer"
   ]
  },
  {
   "cell_type": "code",
   "execution_count": null,
   "id": "f2f25236",
   "metadata": {},
   "outputs": [],
   "source": []
  },
  {
   "cell_type": "code",
   "execution_count": null,
   "id": "2f2d4792",
   "metadata": {},
   "outputs": [],
   "source": []
  },
  {
   "cell_type": "code",
   "execution_count": null,
   "id": "2d50bb64",
   "metadata": {},
   "outputs": [],
   "source": []
  },
  {
   "cell_type": "code",
   "execution_count": null,
   "id": "22bd84f3",
   "metadata": {},
   "outputs": [],
   "source": []
  },
  {
   "cell_type": "code",
   "execution_count": null,
   "id": "c7911526",
   "metadata": {},
   "outputs": [],
   "source": []
  },
  {
   "cell_type": "code",
   "execution_count": null,
   "id": "9806bf24",
   "metadata": {},
   "outputs": [],
   "source": []
  },
  {
   "cell_type": "code",
   "execution_count": null,
   "id": "eba0dddb",
   "metadata": {},
   "outputs": [],
   "source": []
  },
  {
   "cell_type": "code",
   "execution_count": null,
   "id": "e4e21112",
   "metadata": {},
   "outputs": [],
   "source": []
  },
  {
   "cell_type": "code",
   "execution_count": null,
   "id": "55bcd1ad",
   "metadata": {},
   "outputs": [],
   "source": []
  },
  {
   "cell_type": "code",
   "execution_count": null,
   "id": "ab32f8f4",
   "metadata": {},
   "outputs": [],
   "source": []
  },
  {
   "cell_type": "code",
   "execution_count": null,
   "id": "a430fc67",
   "metadata": {},
   "outputs": [],
   "source": []
  },
  {
   "cell_type": "code",
   "execution_count": null,
   "id": "9c74f7e4",
   "metadata": {},
   "outputs": [],
   "source": []
  },
  {
   "cell_type": "code",
   "execution_count": null,
   "id": "b133ec8c",
   "metadata": {},
   "outputs": [],
   "source": []
  },
  {
   "cell_type": "code",
   "execution_count": null,
   "id": "0d9cb8b8",
   "metadata": {},
   "outputs": [],
   "source": []
  },
  {
   "cell_type": "code",
   "execution_count": null,
   "id": "cc75230d",
   "metadata": {},
   "outputs": [],
   "source": []
  },
  {
   "cell_type": "code",
   "execution_count": null,
   "id": "5eb17384",
   "metadata": {},
   "outputs": [],
   "source": []
  },
  {
   "cell_type": "code",
   "execution_count": null,
   "id": "19781b87",
   "metadata": {},
   "outputs": [],
   "source": []
  },
  {
   "cell_type": "code",
   "execution_count": null,
   "id": "d304ce70",
   "metadata": {},
   "outputs": [],
   "source": []
  },
  {
   "cell_type": "code",
   "execution_count": null,
   "id": "ef673147",
   "metadata": {},
   "outputs": [],
   "source": []
  },
  {
   "cell_type": "code",
   "execution_count": null,
   "id": "1b07b1a2",
   "metadata": {},
   "outputs": [],
   "source": []
  },
  {
   "cell_type": "code",
   "execution_count": null,
   "id": "71aa8a8a",
   "metadata": {},
   "outputs": [],
   "source": []
  }
 ],
 "metadata": {
  "kernelspec": {
   "display_name": "Python 3 (ipykernel)",
   "language": "python",
   "name": "python3"
  },
  "language_info": {
   "codemirror_mode": {
    "name": "ipython",
    "version": 3
   },
   "file_extension": ".py",
   "mimetype": "text/x-python",
   "name": "python",
   "nbconvert_exporter": "python",
   "pygments_lexer": "ipython3",
   "version": "3.9.7"
  }
 },
 "nbformat": 4,
 "nbformat_minor": 5
}
